{
 "cells": [
  {
   "cell_type": "code",
   "execution_count": 4,
   "id": "fc569541",
   "metadata": {},
   "outputs": [],
   "source": [
    "import numpy as np\n",
    "score=np.array([[80, 89, 86, 67, 79],\n",
    "[78, 97, 89, 67, 81],\n",
    "[90, 94, 78, 67, 74],\n",
    "[91, 91, 90, 67, 69],\n",
    "[76, 87, 75, 67, 86],\n",
    "[70, 79, 84, 67, 84],\n",
    "[94, 92, 93, 67, 64],\n",
    "[86, 85, 83, 67, 80]])"
   ]
  },
  {
   "cell_type": "code",
   "execution_count": 5,
   "id": "f2fc6711",
   "metadata": {},
   "outputs": [
    {
     "data": {
      "text/plain": [
       "array([[80, 89, 86, 67, 79],\n",
       "       [78, 97, 89, 67, 81],\n",
       "       [90, 94, 78, 67, 74],\n",
       "       [91, 91, 90, 67, 69],\n",
       "       [76, 87, 75, 67, 86],\n",
       "       [70, 79, 84, 67, 84],\n",
       "       [94, 92, 93, 67, 64],\n",
       "       [86, 85, 83, 67, 80]])"
      ]
     },
     "execution_count": 5,
     "metadata": {},
     "output_type": "execute_result"
    }
   ],
   "source": [
    "score"
   ]
  },
  {
   "cell_type": "code",
   "execution_count": 6,
   "id": "0b3d45ef",
   "metadata": {},
   "outputs": [
    {
     "data": {
      "text/plain": [
       "numpy.ndarray"
      ]
     },
     "execution_count": 6,
     "metadata": {},
     "output_type": "execute_result"
    }
   ],
   "source": [
    "type(score)"
   ]
  },
  {
   "cell_type": "markdown",
   "id": "80dcc507",
   "metadata": {},
   "source": [
    "# ndarray和python原生list效率对比"
   ]
  },
  {
   "cell_type": "code",
   "execution_count": 11,
   "id": "6efaebcc",
   "metadata": {},
   "outputs": [],
   "source": [
    "import random\n",
    "import time"
   ]
  },
  {
   "cell_type": "code",
   "execution_count": 12,
   "id": "36cf84e9",
   "metadata": {},
   "outputs": [],
   "source": [
    "python_list=[]\n",
    "for i in range(100000000):\n",
    "    python_list.append(random.random())"
   ]
  },
  {
   "cell_type": "code",
   "execution_count": 13,
   "id": "fca071cb",
   "metadata": {},
   "outputs": [],
   "source": [
    "ndarray_list=np.array(python_list)"
   ]
  },
  {
   "cell_type": "code",
   "execution_count": 15,
   "id": "19232155",
   "metadata": {},
   "outputs": [
    {
     "data": {
      "text/plain": [
       "100000000"
      ]
     },
     "execution_count": 15,
     "metadata": {},
     "output_type": "execute_result"
    }
   ],
   "source": [
    "len(ndarray_list)"
   ]
  },
  {
   "cell_type": "code",
   "execution_count": 16,
   "id": "4a7826c7",
   "metadata": {},
   "outputs": [],
   "source": [
    "t1=time.time()\n",
    "a=sum(python_list)\n",
    "t2=time.time()\n",
    "d1=t2-t1\n",
    "\n",
    "t3=time.time()\n",
    "b=np.sum(ndarray_list)\n",
    "t4=time.time()\n",
    "d2=t4-t3\n"
   ]
  },
  {
   "cell_type": "code",
   "execution_count": 17,
   "id": "6ef1ac2e",
   "metadata": {},
   "outputs": [
    {
     "data": {
      "text/plain": [
       "0.6764636039733887"
      ]
     },
     "execution_count": 17,
     "metadata": {},
     "output_type": "execute_result"
    }
   ],
   "source": [
    "d1"
   ]
  },
  {
   "cell_type": "code",
   "execution_count": 18,
   "id": "3b226321",
   "metadata": {},
   "outputs": [
    {
     "data": {
      "text/plain": [
       "0.15740084648132324"
      ]
     },
     "execution_count": 18,
     "metadata": {},
     "output_type": "execute_result"
    }
   ],
   "source": [
    "d2"
   ]
  },
  {
   "cell_type": "markdown",
   "id": "5885b41a",
   "metadata": {},
   "source": [
    "# ndarray属性"
   ]
  },
  {
   "cell_type": "code",
   "execution_count": 19,
   "id": "0c8a634d",
   "metadata": {},
   "outputs": [
    {
     "data": {
      "text/plain": [
       "array([[80, 89, 86, 67, 79],\n",
       "       [78, 97, 89, 67, 81],\n",
       "       [90, 94, 78, 67, 74],\n",
       "       [91, 91, 90, 67, 69],\n",
       "       [76, 87, 75, 67, 86],\n",
       "       [70, 79, 84, 67, 84],\n",
       "       [94, 92, 93, 67, 64],\n",
       "       [86, 85, 83, 67, 80]])"
      ]
     },
     "execution_count": 19,
     "metadata": {},
     "output_type": "execute_result"
    }
   ],
   "source": [
    "score"
   ]
  },
  {
   "cell_type": "code",
   "execution_count": 21,
   "id": "972e6625",
   "metadata": {},
   "outputs": [
    {
     "data": {
      "text/plain": [
       "(8, 5)"
      ]
     },
     "execution_count": 21,
     "metadata": {},
     "output_type": "execute_result"
    }
   ],
   "source": [
    "score.shape#8行5列"
   ]
  },
  {
   "cell_type": "code",
   "execution_count": 22,
   "id": "afcf44a6",
   "metadata": {},
   "outputs": [
    {
     "data": {
      "text/plain": [
       "2"
      ]
     },
     "execution_count": 22,
     "metadata": {},
     "output_type": "execute_result"
    }
   ],
   "source": [
    "score.ndim#维度"
   ]
  },
  {
   "cell_type": "code",
   "execution_count": 23,
   "id": "1b451a6f",
   "metadata": {},
   "outputs": [
    {
     "data": {
      "text/plain": [
       "40"
      ]
     },
     "execution_count": 23,
     "metadata": {},
     "output_type": "execute_result"
    }
   ],
   "source": [
    "score.size#几个元素"
   ]
  },
  {
   "cell_type": "code",
   "execution_count": 25,
   "id": "b351a22a",
   "metadata": {},
   "outputs": [
    {
     "data": {
      "text/plain": [
       "dtype('int32')"
      ]
     },
     "execution_count": 25,
     "metadata": {},
     "output_type": "execute_result"
    }
   ],
   "source": [
    "score.dtype#类型"
   ]
  },
  {
   "cell_type": "code",
   "execution_count": 29,
   "id": "902fd508",
   "metadata": {},
   "outputs": [
    {
     "data": {
      "text/plain": [
       "4"
      ]
     },
     "execution_count": 29,
     "metadata": {},
     "output_type": "execute_result"
    }
   ],
   "source": [
    "score.itemsize#元素大小 32/8=4"
   ]
  },
  {
   "cell_type": "markdown",
   "id": "6d4a07a7",
   "metadata": {},
   "source": [
    "# ndarray类型"
   ]
  },
  {
   "cell_type": "code",
   "execution_count": 32,
   "id": "aac8ecdc",
   "metadata": {},
   "outputs": [],
   "source": [
    "data=np.array([1.1,2.2,3.3],dtype=np.float32)"
   ]
  },
  {
   "cell_type": "code",
   "execution_count": 33,
   "id": "0dba7c8d",
   "metadata": {},
   "outputs": [
    {
     "data": {
      "text/plain": [
       "dtype('float32')"
      ]
     },
     "execution_count": 33,
     "metadata": {},
     "output_type": "execute_result"
    }
   ],
   "source": [
    "data.dtype"
   ]
  },
  {
   "cell_type": "markdown",
   "id": "bfa43db7",
   "metadata": {},
   "source": [
    "# 生成数组的方法"
   ]
  },
  {
   "cell_type": "code",
   "execution_count": 37,
   "id": "a25ef5e2",
   "metadata": {},
   "outputs": [],
   "source": [
    "a=np.zeros((3,4),dtype=\"float32\")"
   ]
  },
  {
   "cell_type": "code",
   "execution_count": 38,
   "id": "ae11455e",
   "metadata": {},
   "outputs": [
    {
     "data": {
      "text/plain": [
       "array([[0., 0., 0., 0.],\n",
       "       [0., 0., 0., 0.],\n",
       "       [0., 0., 0., 0.]], dtype=float32)"
      ]
     },
     "execution_count": 38,
     "metadata": {},
     "output_type": "execute_result"
    }
   ],
   "source": [
    "a"
   ]
  },
  {
   "cell_type": "code",
   "execution_count": 39,
   "id": "d0b58827",
   "metadata": {},
   "outputs": [],
   "source": [
    "b=np.ones(shape=(2,3),dtype=np.int32)"
   ]
  },
  {
   "cell_type": "code",
   "execution_count": 40,
   "id": "6de93a8d",
   "metadata": {},
   "outputs": [
    {
     "data": {
      "text/plain": [
       "array([[1, 1, 1],\n",
       "       [1, 1, 1]])"
      ]
     },
     "execution_count": 40,
     "metadata": {},
     "output_type": "execute_result"
    }
   ],
   "source": [
    "b"
   ]
  },
  {
   "cell_type": "code",
   "execution_count": 41,
   "id": "907db922",
   "metadata": {},
   "outputs": [
    {
     "data": {
      "text/plain": [
       "array([[80, 89, 86, 67, 79],\n",
       "       [78, 97, 89, 67, 81],\n",
       "       [90, 94, 78, 67, 74],\n",
       "       [91, 91, 90, 67, 69],\n",
       "       [76, 87, 75, 67, 86],\n",
       "       [70, 79, 84, 67, 84],\n",
       "       [94, 92, 93, 67, 64],\n",
       "       [86, 85, 83, 67, 80]])"
      ]
     },
     "execution_count": 41,
     "metadata": {},
     "output_type": "execute_result"
    }
   ],
   "source": [
    "score"
   ]
  },
  {
   "cell_type": "code",
   "execution_count": 42,
   "id": "32dbb9e8",
   "metadata": {},
   "outputs": [
    {
     "data": {
      "text/plain": [
       "array([[80, 89, 86, 67, 79],\n",
       "       [78, 97, 89, 67, 81],\n",
       "       [90, 94, 78, 67, 74],\n",
       "       [91, 91, 90, 67, 69],\n",
       "       [76, 87, 75, 67, 86],\n",
       "       [70, 79, 84, 67, 84],\n",
       "       [94, 92, 93, 67, 64],\n",
       "       [86, 85, 83, 67, 80]])"
      ]
     },
     "execution_count": 42,
     "metadata": {},
     "output_type": "execute_result"
    }
   ],
   "source": [
    "data1=np.array(score)\n",
    "data1"
   ]
  },
  {
   "cell_type": "code",
   "execution_count": 43,
   "id": "6ce69d34",
   "metadata": {},
   "outputs": [
    {
     "data": {
      "text/plain": [
       "array([[80, 89, 86, 67, 79],\n",
       "       [78, 97, 89, 67, 81],\n",
       "       [90, 94, 78, 67, 74],\n",
       "       [91, 91, 90, 67, 69],\n",
       "       [76, 87, 75, 67, 86],\n",
       "       [70, 79, 84, 67, 84],\n",
       "       [94, 92, 93, 67, 64],\n",
       "       [86, 85, 83, 67, 80]])"
      ]
     },
     "execution_count": 43,
     "metadata": {},
     "output_type": "execute_result"
    }
   ],
   "source": [
    "data2=np.asarray(score)\n",
    "data2"
   ]
  },
  {
   "cell_type": "code",
   "execution_count": 44,
   "id": "2b070e93",
   "metadata": {},
   "outputs": [
    {
     "data": {
      "text/plain": [
       "array([[80, 89, 86, 67, 79],\n",
       "       [78, 97, 89, 67, 81],\n",
       "       [90, 94, 78, 67, 74],\n",
       "       [91, 91, 90, 67, 69],\n",
       "       [76, 87, 75, 67, 86],\n",
       "       [70, 79, 84, 67, 84],\n",
       "       [94, 92, 93, 67, 64],\n",
       "       [86, 85, 83, 67, 80]])"
      ]
     },
     "execution_count": 44,
     "metadata": {},
     "output_type": "execute_result"
    }
   ],
   "source": [
    "data3=np.copy(score)\n",
    "data3"
   ]
  },
  {
   "cell_type": "code",
   "execution_count": 47,
   "id": "4d68c24c",
   "metadata": {},
   "outputs": [],
   "source": [
    "score[3][1]=10000"
   ]
  },
  {
   "cell_type": "code",
   "execution_count": 48,
   "id": "14301e71",
   "metadata": {
    "scrolled": true
   },
   "outputs": [
    {
     "data": {
      "text/plain": [
       "array([[   80,    89,    86,    67,    79],\n",
       "       [   78,    97,    89,    67,    81],\n",
       "       [   90,    94,    78,    67,    74],\n",
       "       [   91, 10000,    90,    67,    69],\n",
       "       [   76,    87,    75,    67,    86],\n",
       "       [   70,    79,    84,    67,    84],\n",
       "       [   94,    92,    93,    67,    64],\n",
       "       [   86,    85,    83,    67,    80]])"
      ]
     },
     "execution_count": 48,
     "metadata": {},
     "output_type": "execute_result"
    }
   ],
   "source": [
    "score"
   ]
  },
  {
   "cell_type": "code",
   "execution_count": 49,
   "id": "1fa05dd3",
   "metadata": {},
   "outputs": [
    {
     "data": {
      "text/plain": [
       "array([[80, 89, 86, 67, 79],\n",
       "       [78, 97, 89, 67, 81],\n",
       "       [90, 94, 78, 67, 74],\n",
       "       [91, 91, 90, 67, 69],\n",
       "       [76, 87, 75, 67, 86],\n",
       "       [70, 79, 84, 67, 84],\n",
       "       [94, 92, 93, 67, 64],\n",
       "       [86, 85, 83, 67, 80]])"
      ]
     },
     "execution_count": 49,
     "metadata": {},
     "output_type": "execute_result"
    }
   ],
   "source": [
    "data1"
   ]
  },
  {
   "cell_type": "code",
   "execution_count": 50,
   "id": "ad6ccdef",
   "metadata": {},
   "outputs": [
    {
     "data": {
      "text/plain": [
       "array([[   80,    89,    86,    67,    79],\n",
       "       [   78,    97,    89,    67,    81],\n",
       "       [   90,    94,    78,    67,    74],\n",
       "       [   91, 10000,    90,    67,    69],\n",
       "       [   76,    87,    75,    67,    86],\n",
       "       [   70,    79,    84,    67,    84],\n",
       "       [   94,    92,    93,    67,    64],\n",
       "       [   86,    85,    83,    67,    80]])"
      ]
     },
     "execution_count": 50,
     "metadata": {},
     "output_type": "execute_result"
    }
   ],
   "source": [
    "data2"
   ]
  },
  {
   "cell_type": "code",
   "execution_count": 51,
   "id": "4b372a01",
   "metadata": {},
   "outputs": [
    {
     "data": {
      "text/plain": [
       "array([[80, 89, 86, 67, 79],\n",
       "       [78, 97, 89, 67, 81],\n",
       "       [90, 94, 78, 67, 74],\n",
       "       [91, 91, 90, 67, 69],\n",
       "       [76, 87, 75, 67, 86],\n",
       "       [70, 79, 84, 67, 84],\n",
       "       [94, 92, 93, 67, 64],\n",
       "       [86, 85, 83, 67, 80]])"
      ]
     },
     "execution_count": 51,
     "metadata": {},
     "output_type": "execute_result"
    }
   ],
   "source": [
    "data3"
   ]
  },
  {
   "cell_type": "code",
   "execution_count": 52,
   "id": "916f35d9",
   "metadata": {},
   "outputs": [
    {
     "data": {
      "text/plain": [
       "array([ 0.        ,  0.1010101 ,  0.2020202 ,  0.3030303 ,  0.4040404 ,\n",
       "        0.50505051,  0.60606061,  0.70707071,  0.80808081,  0.90909091,\n",
       "        1.01010101,  1.11111111,  1.21212121,  1.31313131,  1.41414141,\n",
       "        1.51515152,  1.61616162,  1.71717172,  1.81818182,  1.91919192,\n",
       "        2.02020202,  2.12121212,  2.22222222,  2.32323232,  2.42424242,\n",
       "        2.52525253,  2.62626263,  2.72727273,  2.82828283,  2.92929293,\n",
       "        3.03030303,  3.13131313,  3.23232323,  3.33333333,  3.43434343,\n",
       "        3.53535354,  3.63636364,  3.73737374,  3.83838384,  3.93939394,\n",
       "        4.04040404,  4.14141414,  4.24242424,  4.34343434,  4.44444444,\n",
       "        4.54545455,  4.64646465,  4.74747475,  4.84848485,  4.94949495,\n",
       "        5.05050505,  5.15151515,  5.25252525,  5.35353535,  5.45454545,\n",
       "        5.55555556,  5.65656566,  5.75757576,  5.85858586,  5.95959596,\n",
       "        6.06060606,  6.16161616,  6.26262626,  6.36363636,  6.46464646,\n",
       "        6.56565657,  6.66666667,  6.76767677,  6.86868687,  6.96969697,\n",
       "        7.07070707,  7.17171717,  7.27272727,  7.37373737,  7.47474747,\n",
       "        7.57575758,  7.67676768,  7.77777778,  7.87878788,  7.97979798,\n",
       "        8.08080808,  8.18181818,  8.28282828,  8.38383838,  8.48484848,\n",
       "        8.58585859,  8.68686869,  8.78787879,  8.88888889,  8.98989899,\n",
       "        9.09090909,  9.19191919,  9.29292929,  9.39393939,  9.49494949,\n",
       "        9.5959596 ,  9.6969697 ,  9.7979798 ,  9.8989899 , 10.        ])"
      ]
     },
     "execution_count": 52,
     "metadata": {},
     "output_type": "execute_result"
    }
   ],
   "source": [
    "x=np.linspace(0,10,100)#生成【0,10】内等距离的100个数\n",
    "x"
   ]
  },
  {
   "cell_type": "code",
   "execution_count": 67,
   "id": "9488d94d",
   "metadata": {},
   "outputs": [],
   "source": [
    "y=np.arange(1,100,5)#生成[1,100)步长为5"
   ]
  },
  {
   "cell_type": "code",
   "execution_count": 68,
   "id": "0c434ab1",
   "metadata": {},
   "outputs": [
    {
     "data": {
      "text/plain": [
       "array([ 1,  6, 11, 16, 21, 26, 31, 36, 41, 46, 51, 56, 61, 66, 71, 76, 81,\n",
       "       86, 91, 96])"
      ]
     },
     "execution_count": 68,
     "metadata": {},
     "output_type": "execute_result"
    }
   ],
   "source": [
    "y"
   ]
  },
  {
   "cell_type": "markdown",
   "id": "ac16d5c9",
   "metadata": {},
   "source": [
    "# 生成随机数组"
   ]
  },
  {
   "cell_type": "code",
   "execution_count": 65,
   "id": "a814a47f",
   "metadata": {},
   "outputs": [
    {
     "data": {
      "text/plain": [
       "array([0.85992546, 0.64652061, 0.36049181, ..., 0.30647832, 0.09473417,\n",
       "       0.31972293])"
      ]
     },
     "execution_count": 65,
     "metadata": {},
     "output_type": "execute_result"
    }
   ],
   "source": [
    "#均匀分布\n",
    "data1=np.random.uniform(low=-1,high=1,size=1000000)\n",
    "data1"
   ]
  },
  {
   "cell_type": "code",
   "execution_count": 70,
   "id": "a12dd047",
   "metadata": {},
   "outputs": [
    {
     "data": {
      "image/png": "[encoded data removed]",
      "text/plain": [
       "<Figure size 1600x640 with 1 Axes>"
      ]
     },
     "metadata": {
      "needs_background": "light"
     },
     "output_type": "display_data"
    }
   ],
   "source": [
    "import matplotlib.pyplot as plt\n",
    "plt.figure(figsize=(20,8),dpi=80)\n",
    "plt.hist(data1,1000)\n",
    "plt.show()"
   ]
  },
  {
   "cell_type": "code",
   "execution_count": 74,
   "id": "62c71c24",
   "metadata": {},
   "outputs": [],
   "source": [
    "#正态分布 loc均值 scale标准差\n",
    "data2=np.random.normal(loc=1.75,scale=0.1,size=1000000)"
   ]
  },
  {
   "cell_type": "code",
   "execution_count": 75,
   "id": "294c65d0",
   "metadata": {},
   "outputs": [
    {
     "data": {
      "image/png": "[encoded data removed]",
      "text/plain": [
       "<Figure size 1600x640 with 1 Axes>"
      ]
     },
     "metadata": {
      "needs_background": "light"
     },
     "output_type": "display_data"
    }
   ],
   "source": [
    "plt.figure(figsize=(20,8),dpi=80)\n",
    "plt.hist(data2,1000)\n",
    "plt.show()"
   ]
  },
  {
   "cell_type": "markdown",
   "id": "b8d61b32",
   "metadata": {},
   "source": [
    "# 案例"
   ]
  },
  {
   "cell_type": "code",
   "execution_count": 76,
   "id": "41a1d446",
   "metadata": {},
   "outputs": [],
   "source": [
    "stock_change=np.random.normal(loc=0,scale=1,size=(8,10))"
   ]
  },
  {
   "cell_type": "code",
   "execution_count": 77,
   "id": "728a8b59",
   "metadata": {},
   "outputs": [
    {
     "data": {
      "text/plain": [
       "array([[-0.71781063,  0.04532939,  1.46901331, -0.34866722, -0.26427931,\n",
       "         0.34668109,  1.41008692,  0.48117435,  0.92145696,  0.89427631],\n",
       "       [-0.0553548 ,  0.37315658, -0.65592396, -0.92622972,  0.23564217,\n",
       "         0.67624722,  0.17187763, -0.64842165, -1.12406177, -0.80757264],\n",
       "       [ 0.02166932, -0.21296549, -0.24684427, -0.33241281, -1.06553334,\n",
       "         1.18994618, -0.73675484, -1.07231082,  0.10177861,  1.46261703],\n",
       "       [ 0.05599996, -1.51828982, -0.01088495, -0.59964578,  1.18316539,\n",
       "         0.43394275,  0.58458724, -0.57163433, -1.16143288,  1.54407262],\n",
       "       [-0.84992115, -2.31025957,  0.17132018,  0.28424416, -1.63391693,\n",
       "        -1.47845956,  0.31633405,  1.34593847, -0.42415682, -0.80650179],\n",
       "       [ 2.81252429, -1.55340869,  0.92288254, -0.98028324,  0.47141328,\n",
       "         0.60503683, -1.69163083, -0.20114592,  1.12308235, -0.99688654],\n",
       "       [-1.1113153 , -0.7435643 ,  0.29634785, -0.23689548,  0.78627095,\n",
       "        -0.29828716, -0.71844948, -0.25693136,  0.86172346,  1.11393745],\n",
       "       [ 0.86014332,  0.44776294,  0.34484525, -0.43538907,  0.26236589,\n",
       "        -0.65323575,  0.93712104, -1.3467811 ,  0.86581506, -0.01319894]])"
      ]
     },
     "execution_count": 77,
     "metadata": {},
     "output_type": "execute_result"
    }
   ],
   "source": [
    "stock_change"
   ]
  },
  {
   "cell_type": "code",
   "execution_count": 79,
   "id": "9fc17f2a",
   "metadata": {},
   "outputs": [
    {
     "data": {
      "text/plain": [
       "array([-0.71781063,  0.04532939,  1.46901331, -0.34866722, -0.26427931])"
      ]
     },
     "execution_count": 79,
     "metadata": {},
     "output_type": "execute_result"
    }
   ],
   "source": [
    "stock_change[0,:5]"
   ]
  },
  {
   "cell_type": "code",
   "execution_count": 80,
   "id": "a874e36a",
   "metadata": {},
   "outputs": [
    {
     "data": {
      "text/plain": [
       "array([[-0.71781063,  0.04532939,  1.46901331, -0.34866722, -0.26427931,\n",
       "         0.34668109,  1.41008692,  0.48117435,  0.92145696,  0.89427631],\n",
       "       [-0.0553548 ,  0.37315658, -0.65592396, -0.92622972,  0.23564217,\n",
       "         0.67624722,  0.17187763, -0.64842165, -1.12406177, -0.80757264],\n",
       "       [ 0.02166932, -0.21296549, -0.24684427, -0.33241281, -1.06553334,\n",
       "         1.18994618, -0.73675484, -1.07231082,  0.10177861,  1.46261703],\n",
       "       [ 0.05599996, -1.51828982, -0.01088495, -0.59964578,  1.18316539,\n",
       "         0.43394275,  0.58458724, -0.57163433, -1.16143288,  1.54407262],\n",
       "       [-0.84992115, -2.31025957,  0.17132018,  0.28424416, -1.63391693,\n",
       "        -1.47845956,  0.31633405,  1.34593847, -0.42415682, -0.80650179],\n",
       "       [ 2.81252429, -1.55340869,  0.92288254, -0.98028324,  0.47141328,\n",
       "         0.60503683, -1.69163083, -0.20114592,  1.12308235, -0.99688654],\n",
       "       [-1.1113153 , -0.7435643 ,  0.29634785, -0.23689548,  0.78627095,\n",
       "        -0.29828716, -0.71844948, -0.25693136,  0.86172346,  1.11393745],\n",
       "       [ 0.86014332,  0.44776294,  0.34484525, -0.43538907,  0.26236589,\n",
       "        -0.65323575,  0.93712104, -1.3467811 ,  0.86581506, -0.01319894]])"
      ]
     },
     "execution_count": 80,
     "metadata": {},
     "output_type": "execute_result"
    }
   ],
   "source": [
    "stock_change"
   ]
  },
  {
   "cell_type": "code",
   "execution_count": 81,
   "id": "0724e99a",
   "metadata": {},
   "outputs": [
    {
     "data": {
      "text/plain": [
       "(8, 10)"
      ]
     },
     "execution_count": 81,
     "metadata": {},
     "output_type": "execute_result"
    }
   ],
   "source": [
    "stock_change.shape"
   ]
  },
  {
   "cell_type": "code",
   "execution_count": 84,
   "id": "c6cc9c68",
   "metadata": {},
   "outputs": [],
   "source": [
    "a=stock_change.reshape((10,8))"
   ]
  },
  {
   "cell_type": "code",
   "execution_count": 85,
   "id": "70d36929",
   "metadata": {},
   "outputs": [
    {
     "data": {
      "text/plain": [
       "array([[-0.71781063,  0.04532939,  1.46901331, -0.34866722, -0.26427931,\n",
       "         0.34668109,  1.41008692,  0.48117435],\n",
       "       [ 0.92145696,  0.89427631, -0.0553548 ,  0.37315658, -0.65592396,\n",
       "        -0.92622972,  0.23564217,  0.67624722],\n",
       "       [ 0.17187763, -0.64842165, -1.12406177, -0.80757264,  0.02166932,\n",
       "        -0.21296549, -0.24684427, -0.33241281],\n",
       "       [-1.06553334,  1.18994618, -0.73675484, -1.07231082,  0.10177861,\n",
       "         1.46261703,  0.05599996, -1.51828982],\n",
       "       [-0.01088495, -0.59964578,  1.18316539,  0.43394275,  0.58458724,\n",
       "        -0.57163433, -1.16143288,  1.54407262],\n",
       "       [-0.84992115, -2.31025957,  0.17132018,  0.28424416, -1.63391693,\n",
       "        -1.47845956,  0.31633405,  1.34593847],\n",
       "       [-0.42415682, -0.80650179,  2.81252429, -1.55340869,  0.92288254,\n",
       "        -0.98028324,  0.47141328,  0.60503683],\n",
       "       [-1.69163083, -0.20114592,  1.12308235, -0.99688654, -1.1113153 ,\n",
       "        -0.7435643 ,  0.29634785, -0.23689548],\n",
       "       [ 0.78627095, -0.29828716, -0.71844948, -0.25693136,  0.86172346,\n",
       "         1.11393745,  0.86014332,  0.44776294],\n",
       "       [ 0.34484525, -0.43538907,  0.26236589, -0.65323575,  0.93712104,\n",
       "        -1.3467811 ,  0.86581506, -0.01319894]])"
      ]
     },
     "execution_count": 85,
     "metadata": {},
     "output_type": "execute_result"
    }
   ],
   "source": [
    "a"
   ]
  },
  {
   "cell_type": "code",
   "execution_count": 86,
   "id": "8a17b9cb",
   "metadata": {},
   "outputs": [
    {
     "data": {
      "text/plain": [
       "(10, 8)"
      ]
     },
     "execution_count": 86,
     "metadata": {},
     "output_type": "execute_result"
    }
   ],
   "source": [
    "a.shape"
   ]
  },
  {
   "cell_type": "code",
   "execution_count": 88,
   "id": "f499cddd",
   "metadata": {},
   "outputs": [],
   "source": [
    "stock_change.resize((10,8))"
   ]
  },
  {
   "cell_type": "code",
   "execution_count": 91,
   "id": "5b951da8",
   "metadata": {},
   "outputs": [
    {
     "data": {
      "text/plain": [
       "(10, 8)"
      ]
     },
     "execution_count": 91,
     "metadata": {},
     "output_type": "execute_result"
    }
   ],
   "source": [
    "stock_change.shape"
   ]
  },
  {
   "cell_type": "code",
   "execution_count": 92,
   "id": "4fd273da",
   "metadata": {},
   "outputs": [
    {
     "data": {
      "text/plain": [
       "array([[-0.71781063,  0.04532939,  1.46901331, -0.34866722, -0.26427931,\n",
       "         0.34668109,  1.41008692,  0.48117435],\n",
       "       [ 0.92145696,  0.89427631, -0.0553548 ,  0.37315658, -0.65592396,\n",
       "        -0.92622972,  0.23564217,  0.67624722],\n",
       "       [ 0.17187763, -0.64842165, -1.12406177, -0.80757264,  0.02166932,\n",
       "        -0.21296549, -0.24684427, -0.33241281],\n",
       "       [-1.06553334,  1.18994618, -0.73675484, -1.07231082,  0.10177861,\n",
       "         1.46261703,  0.05599996, -1.51828982],\n",
       "       [-0.01088495, -0.59964578,  1.18316539,  0.43394275,  0.58458724,\n",
       "        -0.57163433, -1.16143288,  1.54407262],\n",
       "       [-0.84992115, -2.31025957,  0.17132018,  0.28424416, -1.63391693,\n",
       "        -1.47845956,  0.31633405,  1.34593847],\n",
       "       [-0.42415682, -0.80650179,  2.81252429, -1.55340869,  0.92288254,\n",
       "        -0.98028324,  0.47141328,  0.60503683],\n",
       "       [-1.69163083, -0.20114592,  1.12308235, -0.99688654, -1.1113153 ,\n",
       "        -0.7435643 ,  0.29634785, -0.23689548],\n",
       "       [ 0.78627095, -0.29828716, -0.71844948, -0.25693136,  0.86172346,\n",
       "         1.11393745,  0.86014332,  0.44776294],\n",
       "       [ 0.34484525, -0.43538907,  0.26236589, -0.65323575,  0.93712104,\n",
       "        -1.3467811 ,  0.86581506, -0.01319894]])"
      ]
     },
     "execution_count": 92,
     "metadata": {},
     "output_type": "execute_result"
    }
   ],
   "source": [
    "stock_change"
   ]
  },
  {
   "cell_type": "code",
   "execution_count": 93,
   "id": "2bb91c3f",
   "metadata": {},
   "outputs": [],
   "source": [
    "stock_change.resize((8,10))"
   ]
  },
  {
   "cell_type": "code",
   "execution_count": 95,
   "id": "f5908cb5",
   "metadata": {},
   "outputs": [
    {
     "data": {
      "text/plain": [
       "array([[-0.71781063, -0.0553548 ,  0.02166932,  0.05599996, -0.84992115,\n",
       "         2.81252429, -1.1113153 ,  0.86014332],\n",
       "       [ 0.04532939,  0.37315658, -0.21296549, -1.51828982, -2.31025957,\n",
       "        -1.55340869, -0.7435643 ,  0.44776294],\n",
       "       [ 1.46901331, -0.65592396, -0.24684427, -0.01088495,  0.17132018,\n",
       "         0.92288254,  0.29634785,  0.34484525],\n",
       "       [-0.34866722, -0.92622972, -0.33241281, -0.59964578,  0.28424416,\n",
       "        -0.98028324, -0.23689548, -0.43538907],\n",
       "       [-0.26427931,  0.23564217, -1.06553334,  1.18316539, -1.63391693,\n",
       "         0.47141328,  0.78627095,  0.26236589],\n",
       "       [ 0.34668109,  0.67624722,  1.18994618,  0.43394275, -1.47845956,\n",
       "         0.60503683, -0.29828716, -0.65323575],\n",
       "       [ 1.41008692,  0.17187763, -0.73675484,  0.58458724,  0.31633405,\n",
       "        -1.69163083, -0.71844948,  0.93712104],\n",
       "       [ 0.48117435, -0.64842165, -1.07231082, -0.57163433,  1.34593847,\n",
       "        -0.20114592, -0.25693136, -1.3467811 ],\n",
       "       [ 0.92145696, -1.12406177,  0.10177861, -1.16143288, -0.42415682,\n",
       "         1.12308235,  0.86172346,  0.86581506],\n",
       "       [ 0.89427631, -0.80757264,  1.46261703,  1.54407262, -0.80650179,\n",
       "        -0.99688654,  1.11393745, -0.01319894]])"
      ]
     },
     "execution_count": 95,
     "metadata": {},
     "output_type": "execute_result"
    }
   ],
   "source": [
    "stock_change.T#矩阵转置"
   ]
  },
  {
   "cell_type": "markdown",
   "id": "4c738cc8",
   "metadata": {},
   "source": [
    "# 类型修改"
   ]
  },
  {
   "cell_type": "code",
   "execution_count": 96,
   "id": "287a80a2",
   "metadata": {},
   "outputs": [
    {
     "data": {
      "text/plain": [
       "array([[ 0,  0,  1,  0,  0,  0,  1,  0,  0,  0],\n",
       "       [ 0,  0,  0,  0,  0,  0,  0,  0, -1,  0],\n",
       "       [ 0,  0,  0,  0, -1,  1,  0, -1,  0,  1],\n",
       "       [ 0, -1,  0,  0,  1,  0,  0,  0, -1,  1],\n",
       "       [ 0, -2,  0,  0, -1, -1,  0,  1,  0,  0],\n",
       "       [ 2, -1,  0,  0,  0,  0, -1,  0,  1,  0],\n",
       "       [-1,  0,  0,  0,  0,  0,  0,  0,  0,  1],\n",
       "       [ 0,  0,  0,  0,  0,  0,  0, -1,  0,  0]])"
      ]
     },
     "execution_count": 96,
     "metadata": {},
     "output_type": "execute_result"
    }
   ],
   "source": [
    "stock_change.astype(\"int32\")"
   ]
  },
  {
   "cell_type": "code",
   "execution_count": 98,
   "id": "6e6cde76",
   "metadata": {},
   "outputs": [
    {
     "data": {
      "text/plain": [
       "numpy.ndarray"
      ]
     },
     "execution_count": 98,
     "metadata": {},
     "output_type": "execute_result"
    }
   ],
   "source": [
    "type(stock_change)"
   ]
  },
  {
   "cell_type": "code",
   "execution_count": 99,
   "id": "bae3973e",
   "metadata": {},
   "outputs": [
    {
     "data": {
      "text/plain": [
       "b'\\t|O\\xfdM\\xf8\\xe6\\xbf\\xe2\\xe7d\\xd7i5\\xa7?\\xd0]\\x13\\x19\\x14\\x81\\xf7?\\xfbG\\x8aK\\x90P\\xd6\\xbf\\xce\\x8c\\xce\\xc5\\xf3\\xe9\\xd0\\xbfav3\\xe3\\x050\\xd6?\\xa0k\\x92N\\xb7\\x8f\\xf6?\\xd7\\x97\\x94\\x81\\x8f\\xcb\\xde?\\x8fS\\xc9N\\x93|\\xed?35TX\\xe9\\x9d\\xec?\\xd1\\xd6e\\xe3vW\\xac\\xbf\\x91\\xc9\\xbd\\x1f\\xcc\\xe1\\xd7?\\x8f6W?T\\xfd\\xe4\\xbf\\xc3\\xe0\\xbe\\x80\\xac\\xa3\\xed\\xbf\\xda(^\\xd5\\x85)\\xce?\\x9e-\\xdf5\\xd1\\xa3\\xe5?M\\xf2n\\x0b\\x16\\x00\\xc6?\\xa5\\xaf-\\xc1\\xde\\xbf\\xe4\\xbf\\x18}\\x812(\\xfc\\xf1\\xbf\\xb9\\xf5^\\x96\\xa2\\xd7\\xe9\\xbf,1ja{0\\x96?)\\xf4\\xae\\x07tB\\xcb\\xbf\\xa0T\\xe2\\xdb\\x97\\x98\\xcf\\xbf\\xb3\\x16@a@F\\xd5\\xbf\\x00Y/\\xb0l\\x0c\\xf1\\xbfsj\\xea\\x01\\x05\\n\\xf3?jv@\\xe1~\\x93\\xe7\\xbf\\xa55\\xfab/(\\xf1\\xbf\\xad\\xce\\x96\\xcd)\\x0e\\xba?Dr\\xf1\\x1d\\xe1f\\xf7?wI\\x80\\xe0\\x06\\xac\\xac?\\xd0\\xa3\\xe0C\\xeaJ\\xf8\\xbf8c\\xd7\\x07\\xd9J\\x86\\xbfB\\x86\\x8fXL0\\xe3\\xbf\\x84t5\\xd6>\\xee\\xf2?\\x84J\\xcc\\xca\\xb7\\xc5\\xdb?W\"\\xbbM\\xf0\\xb4\\xe2?\\x92\\xe6a\\x14\\xd4J\\xe2\\xbf\\xa4\\xe3\\xc8\\xa4:\\x95\\xf2\\xbf\\xa2\\xfc(~\\x85\\xb4\\xf8?iS\\x84\\xd9\\x8d2\\xeb\\xbf\\xa2x\\t_i{\\x02\\xc0`\\xa1\\xaf\\xd8\\xd1\\xed\\xc5?B\\x1c=m\\x0e1\\xd2?\\xfa\\x18\\xf5\\x14\\x86$\\xfa\\xbf\\x9bT\\x007\\xc5\\xa7\\xf7\\xbf\\xbb\\x07>/\\xd1>\\xd4?\\xd4\\xc7\\xa5\\xc6\\xf6\\x88\\xf5?\\xc5%\\xee\\xa3b%\\xdb\\xbf\\xb7\\xf4\\x00\\xd7\\xdc\\xce\\xe9\\xbf\\xc0\\xc0\\x97\\xbc\\x0c\\x80\\x06@\\xcd\\xb3u\\x11\\xc3\\xda\\xf8\\xbf\\x9e|\\x10\\xf5@\\x88\\xed?U\\xc3I\\xf5z^\\xef\\xbf\\x07/\\x81\\x9f\\xa2+\\xde?\\xe2\\x8cX5v\\\\\\xe3?G~\\xcd|\\xeb\\x10\\xfb\\xbf]u$H&\\xbf\\xc9\\xbf\\xa9\\x7fr1%\\xf8\\xf1?\\x11\\x02\\xd9\\x9b~\\xe6\\xef\\xbf\\xc7\\xcaR\\x8c\\xf2\\xc7\\xf1\\xbf\\x9f9^]G\\xcb\\xe7\\xbf^\\x03\\xcc\\xf5\\\\\\xf7\\xd2?c@\\xccN\\x97R\\xce\\xbfi\\xc1\\x90\\xb2!)\\xe9?\\xbd\\x80\\xd1\\x05#\\x17\\xd3\\xbf\\x9d Y\\xc3\\x89\\xfd\\xe6\\xbf\\xb9\\x83P:\\x90q\\xd0\\xbf\\x99N5\\x13=\\x93\\xeb?\\xb5\\xa4\\x93\\x13\\xb0\\xd2\\xf1?\\xd0\\xfd\\tHK\\x86\\xeb?x5\\x1b\\xe6%\\xa8\\xdc?\\xb3\\x16\\xbe\\xcf\\xf1\\x11\\xd6?\\xa1\\x88\\xa1\\x1dj\\xdd\\xdb\\xbf\\x93\\xc1\\xc0I\\x9a\\xca\\xd0?\\xb9C\\x05\\xa7N\\xe7\\xe4\\xbf\\xb9\\x8eWC\\xe5\\xfc\\xed?\\x07\\xc8\\xd7Uj\\x8c\\xf5\\xbf\\xa3\\xc19\\xca\\xc1\\xb4\\xeb?\\xf0\\x05\\x85\\xb8\\x0b\\x08\\x8b\\xbf'"
      ]
     },
     "execution_count": 99,
     "metadata": {},
     "output_type": "execute_result"
    }
   ],
   "source": [
    "stock_change.tostring()"
   ]
  },
  {
   "cell_type": "markdown",
   "id": "df97de50",
   "metadata": {},
   "source": [
    "# 数组的去重"
   ]
  },
  {
   "cell_type": "code",
   "execution_count": 100,
   "id": "f3a97a9d",
   "metadata": {},
   "outputs": [],
   "source": [
    "temp=np.array([[1,2,3,4],[3,4,5,6]])"
   ]
  },
  {
   "cell_type": "code",
   "execution_count": 101,
   "id": "dad9a306",
   "metadata": {},
   "outputs": [
    {
     "data": {
      "text/plain": [
       "array([[1, 2, 3, 4],\n",
       "       [3, 4, 5, 6]])"
      ]
     },
     "execution_count": 101,
     "metadata": {},
     "output_type": "execute_result"
    }
   ],
   "source": [
    "temp"
   ]
  },
  {
   "cell_type": "code",
   "execution_count": 102,
   "id": "9be3a992",
   "metadata": {},
   "outputs": [
    {
     "data": {
      "text/plain": [
       "array([1, 2, 3, 4, 5, 6])"
      ]
     },
     "execution_count": 102,
     "metadata": {},
     "output_type": "execute_result"
    }
   ],
   "source": [
    "np.unique(temp)"
   ]
  },
  {
   "cell_type": "code",
   "execution_count": 105,
   "id": "efc836df",
   "metadata": {},
   "outputs": [
    {
     "data": {
      "text/plain": [
       "{1, 2, 3, 4, 5, 6}"
      ]
     },
     "execution_count": 105,
     "metadata": {},
     "output_type": "execute_result"
    }
   ],
   "source": [
    "set(temp.flatten())"
   ]
  },
  {
   "cell_type": "markdown",
   "id": "a5d1adc5",
   "metadata": {},
   "source": [
    "# 逻辑运算"
   ]
  },
  {
   "cell_type": "code",
   "execution_count": 2,
   "id": "3fc81c35",
   "metadata": {},
   "outputs": [
    {
     "data": {
      "text/plain": [
       "array([[ 1.58466110e+00, -3.52708995e-01, -3.37438477e-01,\n",
       "        -2.91660259e+00,  1.25087399e+00,  6.68573590e-01,\n",
       "        -6.69433573e-01,  3.05545769e+00,  8.12403238e-02,\n",
       "        -1.16693813e+00],\n",
       "       [ 8.61864661e-01, -1.47224025e+00,  6.59875358e-01,\n",
       "         7.37751020e-01,  5.33790744e-01, -4.68370403e-01,\n",
       "        -2.17580011e+00, -1.80004960e+00, -1.22420379e+00,\n",
       "        -1.60405805e+00],\n",
       "       [-4.74092347e-01, -4.22214402e-01, -5.23807113e-01,\n",
       "        -6.77054678e-01, -8.30501814e-01,  2.56593036e+00,\n",
       "        -1.10362448e+00,  8.42475947e-01,  7.04010563e-01,\n",
       "        -9.45287954e-01],\n",
       "       [ 8.12618127e-01,  7.57944333e-01, -8.38520171e-02,\n",
       "        -3.31969245e-01, -1.44149376e+00,  1.05861848e-01,\n",
       "         1.22771758e+00,  8.47372784e-01,  1.03739493e+00,\n",
       "        -5.75218036e-01],\n",
       "       [ 1.35408164e+00,  1.16411228e+00,  4.16263100e-01,\n",
       "         6.55948072e-01,  1.50481967e+00, -1.43485093e+00,\n",
       "         7.05822161e-01,  1.15868347e+00,  3.57890929e-01,\n",
       "        -1.15192224e+00],\n",
       "       [-2.09065359e-01,  5.01949855e-01,  9.68596345e-01,\n",
       "        -7.40165624e-01, -1.13709416e+00, -8.26495745e-01,\n",
       "         3.50648040e-01, -2.13571333e-01, -1.47400223e+00,\n",
       "        -1.93686013e+00],\n",
       "       [-5.24189000e-01,  2.61448322e-01, -1.71458089e+00,\n",
       "        -4.51004274e-01, -3.19522430e-01,  1.57525115e+00,\n",
       "         5.97526691e-01, -4.55605078e-01,  4.34955338e-01,\n",
       "         1.26710562e+00],\n",
       "       [-1.18305762e-01,  5.65308645e-01, -2.48996963e-01,\n",
       "        -1.46548513e+00, -1.46334316e+00, -1.24685787e+00,\n",
       "         2.13438061e+00, -1.32654886e-03, -1.05153855e+00,\n",
       "         5.63567741e-01]])"
      ]
     },
     "execution_count": 2,
     "metadata": {},
     "output_type": "execute_result"
    }
   ],
   "source": [
    "import numpy as np\n",
    "stock_change=np.random.normal(loc=0,scale=1,size=(8,10))\n",
    "stock_change"
   ]
  },
  {
   "cell_type": "code",
   "execution_count": 3,
   "id": "d94ecda1",
   "metadata": {},
   "outputs": [
    {
     "data": {
      "text/plain": [
       "array([[ True, False, False, False,  True,  True, False,  True, False,\n",
       "        False],\n",
       "       [ True, False,  True,  True,  True, False, False, False, False,\n",
       "        False],\n",
       "       [False, False, False, False, False,  True, False,  True,  True,\n",
       "        False],\n",
       "       [ True,  True, False, False, False, False,  True,  True,  True,\n",
       "        False],\n",
       "       [ True,  True, False,  True,  True, False,  True,  True, False,\n",
       "        False],\n",
       "       [False,  True,  True, False, False, False, False, False, False,\n",
       "        False],\n",
       "       [False, False, False, False, False,  True,  True, False, False,\n",
       "         True],\n",
       "       [False,  True, False, False, False, False,  True, False, False,\n",
       "         True]])"
      ]
     },
     "execution_count": 3,
     "metadata": {},
     "output_type": "execute_result"
    }
   ],
   "source": [
    "stock_change>0.5"
   ]
  },
  {
   "cell_type": "code",
   "execution_count": 5,
   "id": "5d656dec",
   "metadata": {},
   "outputs": [],
   "source": [
    "stock_change[stock_change>0.5]=1.1"
   ]
  },
  {
   "cell_type": "code",
   "execution_count": 6,
   "id": "613664b2",
   "metadata": {},
   "outputs": [
    {
     "data": {
      "text/plain": [
       "array([[ 1.10000000e+00, -3.52708995e-01, -3.37438477e-01,\n",
       "        -2.91660259e+00,  1.10000000e+00,  1.10000000e+00,\n",
       "        -6.69433573e-01,  1.10000000e+00,  8.12403238e-02,\n",
       "        -1.16693813e+00],\n",
       "       [ 1.10000000e+00, -1.47224025e+00,  1.10000000e+00,\n",
       "         1.10000000e+00,  1.10000000e+00, -4.68370403e-01,\n",
       "        -2.17580011e+00, -1.80004960e+00, -1.22420379e+00,\n",
       "        -1.60405805e+00],\n",
       "       [-4.74092347e-01, -4.22214402e-01, -5.23807113e-01,\n",
       "        -6.77054678e-01, -8.30501814e-01,  1.10000000e+00,\n",
       "        -1.10362448e+00,  1.10000000e+00,  1.10000000e+00,\n",
       "        -9.45287954e-01],\n",
       "       [ 1.10000000e+00,  1.10000000e+00, -8.38520171e-02,\n",
       "        -3.31969245e-01, -1.44149376e+00,  1.05861848e-01,\n",
       "         1.10000000e+00,  1.10000000e+00,  1.10000000e+00,\n",
       "        -5.75218036e-01],\n",
       "       [ 1.10000000e+00,  1.10000000e+00,  4.16263100e-01,\n",
       "         1.10000000e+00,  1.10000000e+00, -1.43485093e+00,\n",
       "         1.10000000e+00,  1.10000000e+00,  3.57890929e-01,\n",
       "        -1.15192224e+00],\n",
       "       [-2.09065359e-01,  1.10000000e+00,  1.10000000e+00,\n",
       "        -7.40165624e-01, -1.13709416e+00, -8.26495745e-01,\n",
       "         3.50648040e-01, -2.13571333e-01, -1.47400223e+00,\n",
       "        -1.93686013e+00],\n",
       "       [-5.24189000e-01,  2.61448322e-01, -1.71458089e+00,\n",
       "        -4.51004274e-01, -3.19522430e-01,  1.10000000e+00,\n",
       "         1.10000000e+00, -4.55605078e-01,  4.34955338e-01,\n",
       "         1.10000000e+00],\n",
       "       [-1.18305762e-01,  1.10000000e+00, -2.48996963e-01,\n",
       "        -1.46548513e+00, -1.46334316e+00, -1.24685787e+00,\n",
       "         1.10000000e+00, -1.32654886e-03, -1.05153855e+00,\n",
       "         1.10000000e+00]])"
      ]
     },
     "execution_count": 6,
     "metadata": {},
     "output_type": "execute_result"
    }
   ],
   "source": [
    "stock_change"
   ]
  },
  {
   "cell_type": "code",
   "execution_count": 8,
   "id": "93bc2bce",
   "metadata": {},
   "outputs": [
    {
     "data": {
      "text/plain": [
       "array([[ True, False, False, False,  True],\n",
       "       [ True, False,  True,  True,  True]])"
      ]
     },
     "execution_count": 8,
     "metadata": {},
     "output_type": "execute_result"
    }
   ],
   "source": [
    "stock_change[0:2,0:5]>0"
   ]
  },
  {
   "cell_type": "code",
   "execution_count": 10,
   "id": "66d1a575",
   "metadata": {},
   "outputs": [
    {
     "data": {
      "text/plain": [
       "False"
      ]
     },
     "execution_count": 10,
     "metadata": {},
     "output_type": "execute_result"
    }
   ],
   "source": [
    "np.all(stock_change[0:2,0:5]>0)#相当于且，全真才真，有假则假"
   ]
  },
  {
   "cell_type": "code",
   "execution_count": 13,
   "id": "b75830b6",
   "metadata": {},
   "outputs": [
    {
     "data": {
      "text/plain": [
       "array([[ True, False, False, False,  True,  True, False,  True,  True,\n",
       "        False],\n",
       "       [ True, False,  True,  True,  True, False, False, False, False,\n",
       "        False],\n",
       "       [False, False, False, False, False,  True, False,  True,  True,\n",
       "        False],\n",
       "       [ True,  True, False, False, False,  True,  True,  True,  True,\n",
       "        False],\n",
       "       [ True,  True,  True,  True,  True, False,  True,  True,  True,\n",
       "        False]])"
      ]
     },
     "execution_count": 13,
     "metadata": {},
     "output_type": "execute_result"
    }
   ],
   "source": [
    "stock_change[:5,:]>0"
   ]
  },
  {
   "cell_type": "code",
   "execution_count": 15,
   "id": "702e1fdc",
   "metadata": {},
   "outputs": [
    {
     "data": {
      "text/plain": [
       "True"
      ]
     },
     "execution_count": 15,
     "metadata": {},
     "output_type": "execute_result"
    }
   ],
   "source": [
    "np.any(stock_change[:5,:]>0)#相当于或，有真则真，全假则假"
   ]
  },
  {
   "cell_type": "code",
   "execution_count": 17,
   "id": "d5fb3236",
   "metadata": {},
   "outputs": [],
   "source": [
    "#np.where(布尔值，Ture的位置的值，False的位置的值)\n",
    "temp=stock_change[:4,:4]"
   ]
  },
  {
   "cell_type": "code",
   "execution_count": 18,
   "id": "7bdee9cf",
   "metadata": {},
   "outputs": [
    {
     "data": {
      "text/plain": [
       "array([[ 1.1       , -0.35270899, -0.33743848, -2.91660259],\n",
       "       [ 1.1       , -1.47224025,  1.1       ,  1.1       ],\n",
       "       [-0.47409235, -0.4222144 , -0.52380711, -0.67705468],\n",
       "       [ 1.1       ,  1.1       , -0.08385202, -0.33196924]])"
      ]
     },
     "execution_count": 18,
     "metadata": {},
     "output_type": "execute_result"
    }
   ],
   "source": [
    "temp"
   ]
  },
  {
   "cell_type": "code",
   "execution_count": 19,
   "id": "b45ac9b1",
   "metadata": {
    "scrolled": true
   },
   "outputs": [
    {
     "data": {
      "text/plain": [
       "array([[1, 0, 0, 0],\n",
       "       [1, 0, 1, 1],\n",
       "       [0, 0, 0, 0],\n",
       "       [1, 1, 0, 0]])"
      ]
     },
     "execution_count": 19,
     "metadata": {},
     "output_type": "execute_result"
    }
   ],
   "source": [
    "np.where(temp>0,1,0)"
   ]
  },
  {
   "cell_type": "code",
   "execution_count": 23,
   "id": "4af8f8eb",
   "metadata": {},
   "outputs": [
    {
     "data": {
      "text/plain": [
       "array([[False, False, False, False],\n",
       "       [False, False, False, False],\n",
       "       [False, False, False, False],\n",
       "       [False, False, False, False]])"
      ]
     },
     "execution_count": 23,
     "metadata": {},
     "output_type": "execute_result"
    }
   ],
   "source": [
    "np.logical_and(temp>0.5,temp<1)"
   ]
  },
  {
   "cell_type": "code",
   "execution_count": 24,
   "id": "4cb0f3d5",
   "metadata": {},
   "outputs": [
    {
     "data": {
      "text/plain": [
       "array([[ True, False, False,  True],\n",
       "       [ True,  True,  True,  True],\n",
       "       [False, False,  True,  True],\n",
       "       [ True,  True, False, False]])"
      ]
     },
     "execution_count": 24,
     "metadata": {},
     "output_type": "execute_result"
    }
   ],
   "source": [
    "np.logical_or(temp>0.5,temp<-0.5)"
   ]
  },
  {
   "cell_type": "code",
   "execution_count": 25,
   "id": "df73e838",
   "metadata": {},
   "outputs": [
    {
     "data": {
      "text/plain": [
       "array([[11,  4,  4, 11],\n",
       "       [11, 11, 11, 11],\n",
       "       [ 4,  4, 11, 11],\n",
       "       [11, 11,  4,  4]])"
      ]
     },
     "execution_count": 25,
     "metadata": {},
     "output_type": "execute_result"
    }
   ],
   "source": [
    "np.where(np.logical_or(temp>0.5,temp<-0.5),11,4)"
   ]
  },
  {
   "cell_type": "markdown",
   "id": "11d9988c",
   "metadata": {},
   "source": [
    "# 统计运算"
   ]
  },
  {
   "cell_type": "code",
   "execution_count": 26,
   "id": "2ce79f25",
   "metadata": {},
   "outputs": [
    {
     "data": {
      "text/plain": [
       "array([[ 1.1       , -0.35270899, -0.33743848, -2.91660259],\n",
       "       [ 1.1       , -1.47224025,  1.1       ,  1.1       ],\n",
       "       [-0.47409235, -0.4222144 , -0.52380711, -0.67705468],\n",
       "       [ 1.1       ,  1.1       , -0.08385202, -0.33196924]])"
      ]
     },
     "execution_count": 26,
     "metadata": {},
     "output_type": "execute_result"
    }
   ],
   "source": [
    "temp"
   ]
  },
  {
   "cell_type": "code",
   "execution_count": 27,
   "id": "17164869",
   "metadata": {},
   "outputs": [
    {
     "data": {
      "text/plain": [
       "1.1"
      ]
     },
     "execution_count": 27,
     "metadata": {},
     "output_type": "execute_result"
    }
   ],
   "source": [
    "temp.max()"
   ]
  },
  {
   "cell_type": "code",
   "execution_count": 28,
   "id": "23346d9e",
   "metadata": {},
   "outputs": [
    {
     "data": {
      "text/plain": [
       "1.1"
      ]
     },
     "execution_count": 28,
     "metadata": {},
     "output_type": "execute_result"
    }
   ],
   "source": [
    "np.max(temp)"
   ]
  },
  {
   "cell_type": "code",
   "execution_count": 35,
   "id": "e5b6c905",
   "metadata": {},
   "outputs": [
    {
     "data": {
      "text/plain": [
       "array([1.1, 1.1, 1.1, 1.1])"
      ]
     },
     "execution_count": 35,
     "metadata": {},
     "output_type": "execute_result"
    }
   ],
   "source": [
    "temp.max(axis=0)#按列取了最大值"
   ]
  },
  {
   "cell_type": "code",
   "execution_count": 36,
   "id": "6a8cec97",
   "metadata": {},
   "outputs": [
    {
     "data": {
      "text/plain": [
       "array([ 1.1      ,  1.1      , -0.4222144,  1.1      ])"
      ]
     },
     "execution_count": 36,
     "metadata": {},
     "output_type": "execute_result"
    }
   ],
   "source": [
    "np.max(temp,axis=1)#按行取了最大值"
   ]
  },
  {
   "cell_type": "code",
   "execution_count": 37,
   "id": "38e631a3",
   "metadata": {},
   "outputs": [
    {
     "data": {
      "text/plain": [
       "array([0, 0, 1, 0], dtype=int64)"
      ]
     },
     "execution_count": 37,
     "metadata": {},
     "output_type": "execute_result"
    }
   ],
   "source": [
    "#返回最大值，最小值的位置\n",
    "np.argmax(temp,axis=1)"
   ]
  },
  {
   "cell_type": "markdown",
   "id": "ec31d196",
   "metadata": {},
   "source": [
    "# 数组间运算"
   ]
  },
  {
   "cell_type": "markdown",
   "id": "2058a28d",
   "metadata": {},
   "source": [
    "# 数组与数的运算"
   ]
  },
  {
   "cell_type": "code",
   "execution_count": 39,
   "id": "53e7c78d",
   "metadata": {},
   "outputs": [],
   "source": [
    "arr = np.array([[1, 2, 3, 2, 1, 4], [5, 6, 1, 2, 3, 1]])"
   ]
  },
  {
   "cell_type": "code",
   "execution_count": 40,
   "id": "4d4b3b7f",
   "metadata": {},
   "outputs": [
    {
     "data": {
      "text/plain": [
       "array([[1, 2, 3, 2, 1, 4],\n",
       "       [5, 6, 1, 2, 3, 1]])"
      ]
     },
     "execution_count": 40,
     "metadata": {},
     "output_type": "execute_result"
    }
   ],
   "source": [
    "arr"
   ]
  },
  {
   "cell_type": "code",
   "execution_count": 41,
   "id": "e7c6fdb3",
   "metadata": {},
   "outputs": [
    {
     "data": {
      "text/plain": [
       "array([[2, 3, 4, 3, 2, 5],\n",
       "       [6, 7, 2, 3, 4, 2]])"
      ]
     },
     "execution_count": 41,
     "metadata": {},
     "output_type": "execute_result"
    }
   ],
   "source": [
    "arr+1"
   ]
  },
  {
   "cell_type": "code",
   "execution_count": 42,
   "id": "6c92e1a9",
   "metadata": {},
   "outputs": [
    {
     "data": {
      "text/plain": [
       "array([[11, 12, 13, 12, 11, 14],\n",
       "       [15, 16, 11, 12, 13, 11]])"
      ]
     },
     "execution_count": 42,
     "metadata": {},
     "output_type": "execute_result"
    }
   ],
   "source": [
    "arr+10"
   ]
  },
  {
   "cell_type": "code",
   "execution_count": 43,
   "id": "7ee655c2",
   "metadata": {},
   "outputs": [
    {
     "data": {
      "text/plain": [
       "array([[10, 20, 30, 20, 10, 40],\n",
       "       [50, 60, 10, 20, 30, 10]])"
      ]
     },
     "execution_count": 43,
     "metadata": {},
     "output_type": "execute_result"
    }
   ],
   "source": [
    "arr*10"
   ]
  },
  {
   "cell_type": "markdown",
   "id": "e7c58477",
   "metadata": {},
   "source": [
    "# 数组与数组的运算"
   ]
  },
  {
   "cell_type": "code",
   "execution_count": 51,
   "id": "5525d65d",
   "metadata": {},
   "outputs": [],
   "source": [
    "arr1=np.array([[1, 2, 3, 2, 1, 4], [5, 6, 1, 2, 3, 1]])\n",
    "arr2=np.array([[1],[3]])"
   ]
  },
  {
   "cell_type": "code",
   "execution_count": 52,
   "id": "576aca1f",
   "metadata": {},
   "outputs": [
    {
     "data": {
      "text/plain": [
       "array([[1, 2, 3, 2, 1, 4],\n",
       "       [5, 6, 1, 2, 3, 1]])"
      ]
     },
     "execution_count": 52,
     "metadata": {},
     "output_type": "execute_result"
    }
   ],
   "source": [
    "arr1"
   ]
  },
  {
   "cell_type": "code",
   "execution_count": 53,
   "id": "73804f32",
   "metadata": {},
   "outputs": [
    {
     "data": {
      "text/plain": [
       "array([[1],\n",
       "       [3]])"
      ]
     },
     "execution_count": 53,
     "metadata": {},
     "output_type": "execute_result"
    }
   ],
   "source": [
    "arr2"
   ]
  },
  {
   "cell_type": "code",
   "execution_count": 54,
   "id": "9ba17c9b",
   "metadata": {},
   "outputs": [
    {
     "data": {
      "text/plain": [
       "(2, 6)"
      ]
     },
     "execution_count": 54,
     "metadata": {},
     "output_type": "execute_result"
    }
   ],
   "source": [
    "arr1.shape"
   ]
  },
  {
   "cell_type": "code",
   "execution_count": 55,
   "id": "108fe684",
   "metadata": {},
   "outputs": [
    {
     "data": {
      "text/plain": [
       "(2, 1)"
      ]
     },
     "execution_count": 55,
     "metadata": {},
     "output_type": "execute_result"
    }
   ],
   "source": [
    "arr2.shape"
   ]
  },
  {
   "cell_type": "code",
   "execution_count": 56,
   "id": "aa16ca76",
   "metadata": {},
   "outputs": [
    {
     "data": {
      "text/plain": [
       "array([[2, 3, 4, 3, 2, 5],\n",
       "       [8, 9, 4, 5, 6, 4]])"
      ]
     },
     "execution_count": 56,
     "metadata": {},
     "output_type": "execute_result"
    }
   ],
   "source": [
    "arr1+arr2"
   ]
  },
  {
   "cell_type": "code",
   "execution_count": 57,
   "id": "d31dbbf3",
   "metadata": {},
   "outputs": [
    {
     "data": {
      "text/plain": [
       "array([[ 1,  2,  3,  2,  1,  4],\n",
       "       [15, 18,  3,  6,  9,  3]])"
      ]
     },
     "execution_count": 57,
     "metadata": {},
     "output_type": "execute_result"
    }
   ],
   "source": [
    "arr1*arr2"
   ]
  },
  {
   "cell_type": "code",
   "execution_count": 58,
   "id": "b8179d71",
   "metadata": {},
   "outputs": [
    {
     "data": {
      "text/plain": [
       "array([[1.        , 2.        , 3.        , 2.        , 1.        ,\n",
       "        4.        ],\n",
       "       [1.66666667, 2.        , 0.33333333, 0.66666667, 1.        ,\n",
       "        0.33333333]])"
      ]
     },
     "execution_count": 58,
     "metadata": {},
     "output_type": "execute_result"
    }
   ],
   "source": [
    "arr1/arr2"
   ]
  },
  {
   "cell_type": "markdown",
   "id": "d858fe1c",
   "metadata": {},
   "source": [
    "# 矩阵运算"
   ]
  },
  {
   "cell_type": "code",
   "execution_count": 59,
   "id": "68a3c13a",
   "metadata": {},
   "outputs": [],
   "source": [
    "data=np.array([[1,2],[4,3]])"
   ]
  },
  {
   "cell_type": "code",
   "execution_count": 60,
   "id": "e40de75f",
   "metadata": {},
   "outputs": [
    {
     "data": {
      "text/plain": [
       "array([[1, 2],\n",
       "       [4, 3]])"
      ]
     },
     "execution_count": 60,
     "metadata": {},
     "output_type": "execute_result"
    }
   ],
   "source": [
    "data"
   ]
  },
  {
   "cell_type": "code",
   "execution_count": 61,
   "id": "de366ba4",
   "metadata": {},
   "outputs": [],
   "source": [
    "data_mat=np.mat([[1,2],[4,3]])"
   ]
  },
  {
   "cell_type": "code",
   "execution_count": 62,
   "id": "ed709aac",
   "metadata": {},
   "outputs": [
    {
     "data": {
      "text/plain": [
       "matrix([[1, 2],\n",
       "        [4, 3]])"
      ]
     },
     "execution_count": 62,
     "metadata": {},
     "output_type": "execute_result"
    }
   ],
   "source": [
    "data_mat"
   ]
  },
  {
   "cell_type": "code",
   "execution_count": 63,
   "id": "2f30c308",
   "metadata": {},
   "outputs": [
    {
     "data": {
      "text/plain": [
       "numpy.ndarray"
      ]
     },
     "execution_count": 63,
     "metadata": {},
     "output_type": "execute_result"
    }
   ],
   "source": [
    "type(data)"
   ]
  },
  {
   "cell_type": "code",
   "execution_count": 64,
   "id": "4ae35fac",
   "metadata": {},
   "outputs": [
    {
     "data": {
      "text/plain": [
       "numpy.matrix"
      ]
     },
     "execution_count": 64,
     "metadata": {},
     "output_type": "execute_result"
    }
   ],
   "source": [
    "type(data_mat)"
   ]
  },
  {
   "cell_type": "code",
   "execution_count": 3,
   "id": "4fb8553f",
   "metadata": {},
   "outputs": [],
   "source": [
    "import numpy as np\n",
    "data_mat=np.mat([[80,86],\n",
    "               [82,80],\n",
    "               [85,78],\n",
    "               [90,90],\n",
    "               [92,94]])"
   ]
  },
  {
   "cell_type": "code",
   "execution_count": 4,
   "id": "a5ab937f",
   "metadata": {},
   "outputs": [
    {
     "data": {
      "text/plain": [
       "matrix([[80, 86],\n",
       "        [82, 80],\n",
       "        [85, 78],\n",
       "        [90, 90],\n",
       "        [92, 94]])"
      ]
     },
     "execution_count": 4,
     "metadata": {},
     "output_type": "execute_result"
    }
   ],
   "source": [
    "data_mat"
   ]
  },
  {
   "cell_type": "code",
   "execution_count": 5,
   "id": "057a74c6",
   "metadata": {},
   "outputs": [
    {
     "data": {
      "text/plain": [
       "(5, 2)"
      ]
     },
     "execution_count": 5,
     "metadata": {},
     "output_type": "execute_result"
    }
   ],
   "source": [
    "data_mat.shape"
   ]
  },
  {
   "cell_type": "code",
   "execution_count": 6,
   "id": "fa7bd6b1",
   "metadata": {},
   "outputs": [],
   "source": [
    "weights=np.array([[0.3],[0.7]])#2行1列"
   ]
  },
  {
   "cell_type": "code",
   "execution_count": 7,
   "id": "24c5f24a",
   "metadata": {},
   "outputs": [
    {
     "data": {
      "text/plain": [
       "array([[0.3],\n",
       "       [0.7]])"
      ]
     },
     "execution_count": 7,
     "metadata": {},
     "output_type": "execute_result"
    }
   ],
   "source": [
    "weights"
   ]
  },
  {
   "cell_type": "code",
   "execution_count": 8,
   "id": "4e68c55b",
   "metadata": {},
   "outputs": [
    {
     "data": {
      "text/plain": [
       "(2, 1)"
      ]
     },
     "execution_count": 8,
     "metadata": {},
     "output_type": "execute_result"
    }
   ],
   "source": [
    "weights.shape"
   ]
  },
  {
   "cell_type": "code",
   "execution_count": 9,
   "id": "e591c3bd",
   "metadata": {},
   "outputs": [],
   "source": [
    "grades=data_mat*weights"
   ]
  },
  {
   "cell_type": "code",
   "execution_count": 10,
   "id": "18f21022",
   "metadata": {},
   "outputs": [
    {
     "data": {
      "text/plain": [
       "matrix([[84.2],\n",
       "        [80.6],\n",
       "        [80.1],\n",
       "        [90. ],\n",
       "        [93.4]])"
      ]
     },
     "execution_count": 10,
     "metadata": {},
     "output_type": "execute_result"
    }
   ],
   "source": [
    "grades"
   ]
  },
  {
   "cell_type": "code",
   "execution_count": 13,
   "id": "21e73496",
   "metadata": {},
   "outputs": [
    {
     "data": {
      "text/plain": [
       "matrix([[84.2],\n",
       "        [80.6],\n",
       "        [80.1],\n",
       "        [90. ],\n",
       "        [93.4]])"
      ]
     },
     "execution_count": 13,
     "metadata": {},
     "output_type": "execute_result"
    }
   ],
   "source": [
    "np.matmul(data_mat,weights)"
   ]
  },
  {
   "cell_type": "code",
   "execution_count": 14,
   "id": "4ec6fc57",
   "metadata": {},
   "outputs": [
    {
     "data": {
      "text/plain": [
       "matrix([[84.2],\n",
       "        [80.6],\n",
       "        [80.1],\n",
       "        [90. ],\n",
       "        [93.4]])"
      ]
     },
     "execution_count": 14,
     "metadata": {},
     "output_type": "execute_result"
    }
   ],
   "source": [
    "np.dot(data_mat,weights)"
   ]
  },
  {
   "cell_type": "markdown",
   "id": "36e20e2c",
   "metadata": {},
   "source": [
    "# 合并，分割"
   ]
  },
  {
   "cell_type": "code",
   "execution_count": 15,
   "id": "0b7ca34d",
   "metadata": {},
   "outputs": [],
   "source": [
    "a=np.array([1,2,3])"
   ]
  },
  {
   "cell_type": "code",
   "execution_count": 16,
   "id": "52bcf5cd",
   "metadata": {},
   "outputs": [
    {
     "data": {
      "text/plain": [
       "array([1, 2, 3])"
      ]
     },
     "execution_count": 16,
     "metadata": {},
     "output_type": "execute_result"
    }
   ],
   "source": [
    "a"
   ]
  },
  {
   "cell_type": "code",
   "execution_count": 17,
   "id": "bbec37f7",
   "metadata": {},
   "outputs": [
    {
     "data": {
      "text/plain": [
       "(3,)"
      ]
     },
     "execution_count": 17,
     "metadata": {},
     "output_type": "execute_result"
    }
   ],
   "source": [
    "a.shape"
   ]
  },
  {
   "cell_type": "code",
   "execution_count": 18,
   "id": "7ed3b016",
   "metadata": {},
   "outputs": [
    {
     "data": {
      "text/plain": [
       "array([1, 2, 3])"
      ]
     },
     "execution_count": 18,
     "metadata": {},
     "output_type": "execute_result"
    }
   ],
   "source": [
    "a=np.array((1,2,3))\n",
    "a"
   ]
  },
  {
   "cell_type": "code",
   "execution_count": 19,
   "id": "3d2346f2",
   "metadata": {},
   "outputs": [
    {
     "data": {
      "text/plain": [
       "(3,)"
      ]
     },
     "execution_count": 19,
     "metadata": {},
     "output_type": "execute_result"
    }
   ],
   "source": [
    "a.shape"
   ]
  },
  {
   "cell_type": "code",
   "execution_count": 20,
   "id": "f102b044",
   "metadata": {},
   "outputs": [
    {
     "data": {
      "text/plain": [
       "(3,)"
      ]
     },
     "execution_count": 20,
     "metadata": {},
     "output_type": "execute_result"
    }
   ],
   "source": [
    "b=np.array((2,3,4))\n",
    "b.shape"
   ]
  },
  {
   "cell_type": "code",
   "execution_count": 21,
   "id": "74782f6f",
   "metadata": {},
   "outputs": [
    {
     "data": {
      "text/plain": [
       "array([1, 2, 3, 2, 3, 4])"
      ]
     },
     "execution_count": 21,
     "metadata": {},
     "output_type": "execute_result"
    }
   ],
   "source": [
    "np.hstack((a,b))#水平拼接"
   ]
  },
  {
   "cell_type": "code",
   "execution_count": 24,
   "id": "c47b35f0",
   "metadata": {},
   "outputs": [
    {
     "data": {
      "text/plain": [
       "array([[1, 2, 3],\n",
       "       [2, 3, 4]])"
      ]
     },
     "execution_count": 24,
     "metadata": {},
     "output_type": "execute_result"
    }
   ],
   "source": [
    "np.vstack((a,b))#竖直拼接"
   ]
  },
  {
   "cell_type": "code",
   "execution_count": 32,
   "id": "5f907edf",
   "metadata": {},
   "outputs": [
    {
     "data": {
      "text/plain": [
       "array([1, 2, 3, 2, 3, 4])"
      ]
     },
     "execution_count": 32,
     "metadata": {},
     "output_type": "execute_result"
    }
   ],
   "source": [
    "np.concatenate((a,b),axis=-1)#水平拼接"
   ]
  },
  {
   "cell_type": "code",
   "execution_count": 33,
   "id": "f05941d9",
   "metadata": {},
   "outputs": [],
   "source": [
    "x=np.arange(9.0)"
   ]
  },
  {
   "cell_type": "code",
   "execution_count": 34,
   "id": "fe50cd39",
   "metadata": {},
   "outputs": [
    {
     "data": {
      "text/plain": [
       "array([0., 1., 2., 3., 4., 5., 6., 7., 8.])"
      ]
     },
     "execution_count": 34,
     "metadata": {},
     "output_type": "execute_result"
    }
   ],
   "source": [
    "x"
   ]
  },
  {
   "cell_type": "code",
   "execution_count": 35,
   "id": "3a525800",
   "metadata": {},
   "outputs": [
    {
     "data": {
      "text/plain": [
       "[array([0., 1., 2.]), array([3., 4., 5.]), array([6., 7., 8.])]"
      ]
     },
     "execution_count": 35,
     "metadata": {},
     "output_type": "execute_result"
    }
   ],
   "source": [
    "np.split(x,3)"
   ]
  },
  {
   "cell_type": "markdown",
   "id": "77e485ce",
   "metadata": {},
   "source": [
    "# IO操作和数据处理"
   ]
  },
  {
   "cell_type": "code",
   "execution_count": 49,
   "id": "55385265",
   "metadata": {},
   "outputs": [],
   "source": [
    "data=np.genfromtxt(\"E:\\机器学习\\python数据分析/test.csv\",delimiter=\",\")"
   ]
  },
  {
   "cell_type": "code",
   "execution_count": 50,
   "id": "3ec4fdf0",
   "metadata": {},
   "outputs": [
    {
     "data": {
      "text/plain": [
       "array([[  nan,   nan,   nan,   nan],\n",
       "       [  1. , 123. ,   1.4,  23. ],\n",
       "       [  2. , 110. ,   nan,  18. ],\n",
       "       [  3. ,   nan,   2.1,  19. ]])"
      ]
     },
     "execution_count": 50,
     "metadata": {},
     "output_type": "execute_result"
    }
   ],
   "source": [
    "data"
   ]
  },
  {
   "cell_type": "code",
   "execution_count": 51,
   "id": "a046a0bf",
   "metadata": {},
   "outputs": [
    {
     "data": {
      "text/plain": [
       "nan"
      ]
     },
     "execution_count": 51,
     "metadata": {},
     "output_type": "execute_result"
    }
   ],
   "source": [
    "data[2,2]"
   ]
  },
  {
   "cell_type": "code",
   "execution_count": 52,
   "id": "b060c32e",
   "metadata": {},
   "outputs": [
    {
     "data": {
      "text/plain": [
       "numpy.float64"
      ]
     },
     "execution_count": 52,
     "metadata": {},
     "output_type": "execute_result"
    }
   ],
   "source": [
    "type(data[2,2])"
   ]
  },
  {
   "cell_type": "code",
   "execution_count": null,
   "id": "80e8cc67",
   "metadata": {},
   "outputs": [],
   "source": []
  }
 ],
 "metadata": {
  "kernelspec": {
   "display_name": "Python [conda env:pytorch] *",
   "language": "python",
   "name": "conda-env-pytorch-py"
  },
  "language_info": {
   "codemirror_mode": {
    "name": "ipython",
    "version": 3
   },
   "file_extension": ".py",
   "mimetype": "text/x-python",
   "name": "python",
   "nbconvert_exporter": "python",
   "pygments_lexer": "ipython3",
   "version": "3.6.13"
  }
 },
 "nbformat": 4,
 "nbformat_minor": 5
}
